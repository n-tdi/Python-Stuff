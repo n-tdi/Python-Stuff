{
 "cells": [
  {
   "cell_type": "code",
   "execution_count": 3,
   "metadata": {},
   "outputs": [],
   "source": [
    "def encrypt(unecrypted):\n",
    "    bytes = ''.join(format(ord(i), '08b') for i in strin)\n",
    "    return bytes[::-1]\n",
    "\n",
    "def decrypt(encrypted):\n",
    "    bytes = encrypted[::-1]\n",
    "    return bitsToStr(bytes)\n",
    "\n",
    "def bitsToStr(b):\n",
    "    return ''.join(chr(int(''.join(x), 2)) for x in zip(*[iter(b)]*8))"
   ]
  },
  {
   "cell_type": "code",
   "execution_count": 4,
   "metadata": {},
   "outputs": [
    {
     "name": "stdout",
     "output_type": "stream",
     "text": [
      "1001011000010110\n",
      "hi\n"
     ]
    }
   ],
   "source": [
    "# take input string and write it out in binary, based on unicode values of each caharacter\n",
    "# print(strin[1:4])\n",
    "strin = str(input(\"String to be converted to binary\"))\n",
    "result = encrypt(strin)\n",
    "yoyo = decrypt(result)\n",
    "    \n",
    "print(result)\n",
    "print(yoyo)"
   ]
  }
 ],
 "metadata": {
  "kernelspec": {
   "display_name": "Python 3.9.10 64-bit",
   "language": "python",
   "name": "python3"
  },
  "language_info": {
   "codemirror_mode": {
    "name": "ipython",
    "version": 3
   },
   "file_extension": ".py",
   "mimetype": "text/x-python",
   "name": "python",
   "nbconvert_exporter": "python",
   "pygments_lexer": "ipython3",
   "version": "3.9.10"
  },
  "orig_nbformat": 4,
  "vscode": {
   "interpreter": {
    "hash": "45d213fce5b2b99a037768f57daecc6389cba85061f09ae0e15dfa1cc3805fe6"
   }
  }
 },
 "nbformat": 4,
 "nbformat_minor": 2
}
