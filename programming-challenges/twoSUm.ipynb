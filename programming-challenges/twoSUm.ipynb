{
 "cells": [
  {
   "cell_type": "code",
   "execution_count": 2,
   "metadata": {},
   "outputs": [],
   "source": [
    "import random"
   ]
  },
  {
   "cell_type": "code",
   "execution_count": 15,
   "metadata": {},
   "outputs": [
    {
     "name": "stdout",
     "output_type": "stream",
     "text": [
      "15\n",
      "42\n"
     ]
    }
   ],
   "source": [
    "def twoSum(target, list):\n",
    "    # num1 = 0\n",
    "    # num2 = 0\n",
    "    # while target != (num1 + num2):\n",
    "    #     num1 = random.choice(list)\n",
    "    #     num2 = random.choice(list)\n",
    "\n",
    "    # return num1, num2\n",
    "\n",
    "    list.sort()\n",
    "\n",
    "    for i in range(0, len(list)):\n",
    "        num1 = list[i]\n",
    "        for j in range(0, len(list)):\n",
    "            num2 = list[j]\n",
    "            if (num1 + num2) == target:\n",
    "                return num1, num2\n",
    "\n",
    "    return 0, 0\n",
    "\n",
    "num1, num2 = twoSum(57, [5,9,11,15,23,42,4,7,1])\n",
    "print(num1)\n",
    "print(num2)"
   ]
  }
 ],
 "metadata": {
  "kernelspec": {
   "display_name": "Python 3.9.10 64-bit",
   "language": "python",
   "name": "python3"
  },
  "language_info": {
   "codemirror_mode": {
    "name": "ipython",
    "version": 3
   },
   "file_extension": ".py",
   "mimetype": "text/x-python",
   "name": "python",
   "nbconvert_exporter": "python",
   "pygments_lexer": "ipython3",
   "version": "3.9.10"
  },
  "orig_nbformat": 4,
  "vscode": {
   "interpreter": {
    "hash": "45d213fce5b2b99a037768f57daecc6389cba85061f09ae0e15dfa1cc3805fe6"
   }
  }
 },
 "nbformat": 4,
 "nbformat_minor": 2
}
