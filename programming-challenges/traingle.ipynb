{
 "cells": [
  {
   "cell_type": "code",
   "execution_count": 27,
   "metadata": {},
   "outputs": [
    {
     "name": "stdout",
     "output_type": "stream",
     "text": [
      "     **\n",
      "    ****\n",
      "   ******\n",
      "  ********\n",
      " **********\n",
      "************\n"
     ]
    }
   ],
   "source": [
    "amt = int(input(\"Size: \"))\n",
    "\n",
    "for x in range(1, amt + 1):\n",
    "    layer = \"\"\n",
    "    layer2 = \"\"\n",
    "    leftOver = amt - x\n",
    "    bandWidth = \"\"\n",
    "    for n in range(1, x+1):\n",
    "        layer += \"*\"\n",
    "    for j in range(1, x+1):\n",
    "        layer += \"*\"    \n",
    "    for b in range(1, leftOver+1):\n",
    "        bandWidth += \" \"\n",
    "    print(bandWidth + layer + layer2)\n",
    "    \n",
    "\n"
   ]
  }
 ],
 "metadata": {
  "kernelspec": {
   "display_name": "Python 3.9.10 64-bit",
   "language": "python",
   "name": "python3"
  },
  "language_info": {
   "codemirror_mode": {
    "name": "ipython",
    "version": 3
   },
   "file_extension": ".py",
   "mimetype": "text/x-python",
   "name": "python",
   "nbconvert_exporter": "python",
   "pygments_lexer": "ipython3",
   "version": "3.9.10"
  },
  "orig_nbformat": 4,
  "vscode": {
   "interpreter": {
    "hash": "45d213fce5b2b99a037768f57daecc6389cba85061f09ae0e15dfa1cc3805fe6"
   }
  }
 },
 "nbformat": 4,
 "nbformat_minor": 2
}
