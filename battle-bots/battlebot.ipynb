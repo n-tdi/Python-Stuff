{
 "cells": [
  {
   "cell_type": "code",
   "execution_count": 77,
   "metadata": {},
   "outputs": [],
   "source": [
    "import random, os\n",
    "from tqdm import tqdm\n",
    "from time import sleep"
   ]
  },
  {
   "cell_type": "code",
   "execution_count": 78,
   "metadata": {},
   "outputs": [
    {
     "name": "stderr",
     "output_type": "stream",
     "text": [
      " 50%|█████     | 50/100 [00:00<?, ?it/s]\n"
     ]
    }
   ],
   "source": [
    "with tqdm(total=100) as pbar:\n",
    "    pbar.update(50)"
   ]
  },
  {
   "cell_type": "code",
   "execution_count": 79,
   "metadata": {},
   "outputs": [],
   "source": [
    "class Arena:\n",
    "    def __init__(self, Bot1, Bot2):\n",
    "        self.bbot1 = Bot1\n",
    "        self.bbot2 = Bot2\n",
    "        self.battles = 0\n",
    "\n",
    "    def doActions(self, bot1, bot2):\n",
    "        print(\"\\n\")\n",
    "        bot1.action(bot2)\n",
    "        bot2.action(bot1)\n",
    "        print(\"\\n\")\n",
    "        bot1.to_string()\n",
    "        bot2.to_string()\n",
    "        print(\"\\n\")\n",
    "        input(\"Press enter for next round\")\n",
    "        \n",
    "    def battle(self):\n",
    "        while self.bbot1.is_alive() and self.bbot2.is_alive():\n",
    "            #begin battle round\n",
    "            self.battles += 1\n",
    "            if self.battles >= 2:\n",
    "                os.system('CLS')\n",
    "            if self.bbot1.speed <= self.bbot2.speed:\n",
    "                self.doActions(self.bbot2, self.bbot1)\n",
    "            else:\n",
    "                self.doActions(self.bbot1, self.bbot2)\n",
    "\n",
    "        if self.bbot1.is_alive():\n",
    "            print(self.bbot1.name + \" is the winner!\")\n",
    "        else:\n",
    "            print(self.bbot2.name + \" is the winner!\")\n",
    "    \n",
    "\n",
    "\n",
    "\n"
   ]
  },
  {
   "cell_type": "code",
   "execution_count": 80,
   "metadata": {},
   "outputs": [],
   "source": [
    "class BattleBot:\n",
    "    def __init__(self, name):\n",
    "        self.name = name\n",
    "        self.health = 100.0\n",
    "        self.base_armor = 10.0\n",
    "        self.base_damage = 10.0\n",
    "        self.speed = 10.0\n",
    "\n",
    "    def attack(self, opponent):\n",
    "        damage_dealt = self.base_damage - (self.base_damage * opponent.base_armor/100)\n",
    "        opponent.take_damage(damage_dealt)\n",
    "    \n",
    "    def take_damage(self, damage):\n",
    "        self.health -= damage\n",
    "\n",
    "    def build_damage(self):\n",
    "        self.base_damage += 2\n",
    "        self.base_armor -= 1\n",
    "        self.speed -=1\n",
    "    \n",
    "    def build_armor(self):\n",
    "        self.base_damage -= 1\n",
    "        self.base_armor += 2\n",
    "        self.speed -=1\n",
    "\n",
    "    def build_speed(self):\n",
    "        self.base_damage = 1\n",
    "        self.base_armor -= 1\n",
    "        self.speed += 2\n",
    "\n",
    "    def is_alive(self):\n",
    "        if self.health <= 0:\n",
    "            return False\n",
    "        return True\n",
    "\n",
    "    def to_string(self):\n",
    "        print(\"Battle Bot \" + self.name + \":\\n\" + \"Health: \" + str(self.health) + \"\\n\" + \"Armor: \" + str(self.base_armor) + \"\\n\" + \"Speed: \" + str(self.speed))\n",
    "        with tqdm(total=100) as pbar:\n",
    "            pbar.update(self.health)\n",
    "\n",
    "    def action(self, opponent):\n",
    "        x = random.randint(0, 100)\n",
    "        if x <= 20:\n",
    "            print(self.name + \" has upped their armor\")\n",
    "            self.build_armor\n",
    "        elif x <= 40:\n",
    "            print(self.name + \" has upped their damage\")\n",
    "            self.build_damage\n",
    "        elif x <= 60:\n",
    "            print(self.name + \" has upped their speed\")\n",
    "            self.build_speed\n",
    "        elif x <= 90:\n",
    "            print(self.name + \" has attacked \" + opponent.name)\n",
    "            self.attack(opponent)\n",
    "        else:\n",
    "            print(self.name + \" got bugged!\")\n",
    "\n",
    "\n"
   ]
  },
  {
   "cell_type": "code",
   "execution_count": 84,
   "metadata": {},
   "outputs": [
    {
     "ename": "KeyboardInterrupt",
     "evalue": "Interrupted by user",
     "output_type": "error",
     "traceback": [
      "\u001b[1;31m---------------------------------------------------------------------------\u001b[0m",
      "\u001b[1;31mKeyboardInterrupt\u001b[0m                         Traceback (most recent call last)",
      "\u001b[1;32mc:\\Users\\Student\\Desktop\\Nikka S\\battle-bots\\battlebot.ipynb Cell 5\u001b[0m in \u001b[0;36m<module>\u001b[1;34m\u001b[0m\n\u001b[0;32m      <a href='vscode-notebook-cell:/c%3A/Users/Student/Desktop/Nikka%20S/battle-bots/battlebot.ipynb#ch0000003?line=0'>1</a>\u001b[0m Bot1 \u001b[39m=\u001b[39m BattleBot(\u001b[39minput\u001b[39m(\u001b[39m\"\u001b[39m\u001b[39mBattle bot1 name\u001b[39m\u001b[39m\"\u001b[39m))\n\u001b[1;32m----> <a href='vscode-notebook-cell:/c%3A/Users/Student/Desktop/Nikka%20S/battle-bots/battlebot.ipynb#ch0000003?line=1'>2</a>\u001b[0m Bot2 \u001b[39m=\u001b[39m BattleBot(\u001b[39minput\u001b[39;49m(\u001b[39m\"\u001b[39;49m\u001b[39mBattle bot2 name\u001b[39;49m\u001b[39m\"\u001b[39;49m))\n\u001b[0;32m      <a href='vscode-notebook-cell:/c%3A/Users/Student/Desktop/Nikka%20S/battle-bots/battlebot.ipynb#ch0000003?line=2'>3</a>\u001b[0m arena \u001b[39m=\u001b[39m Arena(Bot1, Bot2)\n\u001b[0;32m      <a href='vscode-notebook-cell:/c%3A/Users/Student/Desktop/Nikka%20S/battle-bots/battlebot.ipynb#ch0000003?line=3'>4</a>\u001b[0m arena\u001b[39m.\u001b[39mbattle()\n",
      "File \u001b[1;32mc:\\Users\\Student\\AppData\\Local\\Programs\\Python\\Python39\\lib\\site-packages\\ipykernel\\kernelbase.py:1044\u001b[0m, in \u001b[0;36mKernel.raw_input\u001b[1;34m(self, prompt)\u001b[0m\n\u001b[0;32m   1040\u001b[0m \u001b[39mif\u001b[39;00m \u001b[39mnot\u001b[39;00m \u001b[39mself\u001b[39m\u001b[39m.\u001b[39m_allow_stdin:\n\u001b[0;32m   1041\u001b[0m     \u001b[39mraise\u001b[39;00m StdinNotImplementedError(\n\u001b[0;32m   1042\u001b[0m         \u001b[39m\"\u001b[39m\u001b[39mraw_input was called, but this frontend does not support input requests.\u001b[39m\u001b[39m\"\u001b[39m\n\u001b[0;32m   1043\u001b[0m     )\n\u001b[1;32m-> 1044\u001b[0m \u001b[39mreturn\u001b[39;00m \u001b[39mself\u001b[39;49m\u001b[39m.\u001b[39;49m_input_request(\n\u001b[0;32m   1045\u001b[0m     \u001b[39mstr\u001b[39;49m(prompt),\n\u001b[0;32m   1046\u001b[0m     \u001b[39mself\u001b[39;49m\u001b[39m.\u001b[39;49m_parent_ident[\u001b[39m\"\u001b[39;49m\u001b[39mshell\u001b[39;49m\u001b[39m\"\u001b[39;49m],\n\u001b[0;32m   1047\u001b[0m     \u001b[39mself\u001b[39;49m\u001b[39m.\u001b[39;49mget_parent(\u001b[39m\"\u001b[39;49m\u001b[39mshell\u001b[39;49m\u001b[39m\"\u001b[39;49m),\n\u001b[0;32m   1048\u001b[0m     password\u001b[39m=\u001b[39;49m\u001b[39mFalse\u001b[39;49;00m,\n\u001b[0;32m   1049\u001b[0m )\n",
      "File \u001b[1;32mc:\\Users\\Student\\AppData\\Local\\Programs\\Python\\Python39\\lib\\site-packages\\ipykernel\\kernelbase.py:1089\u001b[0m, in \u001b[0;36mKernel._input_request\u001b[1;34m(self, prompt, ident, parent, password)\u001b[0m\n\u001b[0;32m   1086\u001b[0m             \u001b[39mbreak\u001b[39;00m\n\u001b[0;32m   1087\u001b[0m \u001b[39mexcept\u001b[39;00m \u001b[39mKeyboardInterrupt\u001b[39;00m:\n\u001b[0;32m   1088\u001b[0m     \u001b[39m# re-raise KeyboardInterrupt, to truncate traceback\u001b[39;00m\n\u001b[1;32m-> 1089\u001b[0m     \u001b[39mraise\u001b[39;00m \u001b[39mKeyboardInterrupt\u001b[39;00m(\u001b[39m\"\u001b[39m\u001b[39mInterrupted by user\u001b[39m\u001b[39m\"\u001b[39m) \u001b[39mfrom\u001b[39;00m \u001b[39mNone\u001b[39m\n\u001b[0;32m   1090\u001b[0m \u001b[39mexcept\u001b[39;00m \u001b[39mException\u001b[39;00m:\n\u001b[0;32m   1091\u001b[0m     \u001b[39mself\u001b[39m\u001b[39m.\u001b[39mlog\u001b[39m.\u001b[39mwarning(\u001b[39m\"\u001b[39m\u001b[39mInvalid Message:\u001b[39m\u001b[39m\"\u001b[39m, exc_info\u001b[39m=\u001b[39m\u001b[39mTrue\u001b[39;00m)\n",
      "\u001b[1;31mKeyboardInterrupt\u001b[0m: Interrupted by user"
     ]
    }
   ],
   "source": [
    "Bot1 = BattleBot(input(\"Battle bot1 name\"))\n",
    "Bot2 = BattleBot(input(\"Battle bot2 name\"))\n",
    "arena = Arena(Bot1, Bot2)\n",
    "arena.battle()"
   ]
  }
 ],
 "metadata": {
  "kernelspec": {
   "display_name": "Python 3.9.10 64-bit",
   "language": "python",
   "name": "python3"
  },
  "language_info": {
   "codemirror_mode": {
    "name": "ipython",
    "version": 3
   },
   "file_extension": ".py",
   "mimetype": "text/x-python",
   "name": "python",
   "nbconvert_exporter": "python",
   "pygments_lexer": "ipython3",
   "version": "3.9.10"
  },
  "orig_nbformat": 4,
  "vscode": {
   "interpreter": {
    "hash": "45d213fce5b2b99a037768f57daecc6389cba85061f09ae0e15dfa1cc3805fe6"
   }
  }
 },
 "nbformat": 4,
 "nbformat_minor": 2
}
